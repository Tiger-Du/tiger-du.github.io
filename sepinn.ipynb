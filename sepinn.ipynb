{
 "cells": [
  {
   "cell_type": "markdown",
   "metadata": {},
   "source": [
    "---\n",
    "title: SE-PINN\n",
    "subject: Story\n",
    "subtitle: Solving the Schrodinger Equation via Physics-Informed Machine Learning\n",
    "short_title: SE-PINN\n",
    "author:\n",
    "  - name: Tiger Du\n",
    "date: 2024-11-10\n",
    "options:\n",
    "  hide_toc: True\n",
    "downloads:\n",
    "  - file: null\n",
    "    title: null\n",
    "abstract: | \n",
    "  A recent [article](https://www.lesswrong.com/posts/yxdHp2cZeQbZGREEN/improving-model-written-evals-for-ai-safety-benchmarking) demonstrates that the prompts in a particular dataset from Anthropic are _clustered_ based on whether the generator is a _human_ or an _LLM_.\n",
    "  \n",
    "  The authors use E5 from Microsoft to embed the prompts and then use UMAP to project the embeddings onto 2 dimensions. However, it was not certain why the prompts are clustered.\n",
    "  \n",
    "  Here, I uncover possible explanations for such clustering.\n",
    "---"
   ]
  },
  {
   "cell_type": "markdown",
   "metadata": {},
   "source": []
  }
 ],
 "metadata": {
  "language_info": {
   "name": "python"
  }
 },
 "nbformat": 4,
 "nbformat_minor": 2
}
